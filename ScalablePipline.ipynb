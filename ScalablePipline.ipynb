{
  "nbformat": 4,
  "nbformat_minor": 0,
  "metadata": {
    "colab": {
      "name": "ScalablePipline.ipynb",
      "provenance": [],
      "collapsed_sections": [],
      "include_colab_link": true
    },
    "kernelspec": {
      "name": "python3",
      "display_name": "Python 3"
    }
  },
  "cells": [
    {
      "cell_type": "markdown",
      "metadata": {
        "id": "view-in-github",
        "colab_type": "text"
      },
      "source": [
        "<a href=\"https://colab.research.google.com/github/mingjerli/RandomThought/blob/master/ScalablePipline.ipynb\" target=\"_parent\"><img src=\"https://colab.research.google.com/assets/colab-badge.svg\" alt=\"Open In Colab\"/></a>"
      ]
    },
    {
      "cell_type": "code",
      "metadata": {
        "id": "26i35iFjVP_c",
        "colab_type": "code",
        "colab": {}
      },
      "source": [
        ""
      ],
      "execution_count": 0,
      "outputs": []
    },
    {
      "cell_type": "markdown",
      "metadata": {
        "id": "5Z4QBt-4VTVd",
        "colab_type": "text"
      },
      "source": [
        "# Scalable Pipeline\n",
        "\n",
        "* User POST (image)\n",
        "* Setup API (API Gateway, API Apps, FlaskRestPlus on Kubernetes) (message)\n",
        "    + Publish to Streaming Service (Kinesis, HD Insight Kafka, Kafka)\n",
        "* Scalable Inference Service (AWS Lambda, Azure Function, Kubernetes)\n",
        "\t+ Polling form streaming service \n",
        "\t+ Publish to result Streaming Service \n",
        "* Notification system (PagerDuty, Jira, Twolio, Email ...)"
      ]
    },
    {
      "cell_type": "code",
      "metadata": {
        "id": "JTLQgwKgVy-O",
        "colab_type": "code",
        "colab": {}
      },
      "source": [
        ""
      ],
      "execution_count": 0,
      "outputs": []
    }
  ]
}